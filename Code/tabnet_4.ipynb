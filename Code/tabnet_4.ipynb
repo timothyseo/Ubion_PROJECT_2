{
 "cells": [
  {
   "cell_type": "code",
   "execution_count": 1,
   "metadata": {},
   "outputs": [
    {
     "name": "stderr",
     "output_type": "stream",
     "text": [
      "c:\\Users\\seopa\\OneDrive\\Documents\\6기\\.venv\\lib\\site-packages\\tqdm\\auto.py:22: TqdmWarning: IProgress not found. Please update jupyter and ipywidgets. See https://ipywidgets.readthedocs.io/en/stable/user_install.html\n",
      "  from .autonotebook import tqdm as notebook_tqdm\n"
     ]
    }
   ],
   "source": [
    "import os\n",
    "import numpy as np\n",
    "import pandas as pd\n",
    "from sklearn.metrics import roc_auc_score\n",
    "from sklearn.preprocessing import LabelEncoder\n",
    "from matplotlib import pyplot as plt\n",
    "\n",
    "import torch\n",
    "import torch.nn as nn\n",
    "from pytorch_tabnet.tab_model import TabNetClassifier\n",
    "\n",
    "from sklearn.model_selection import train_test_split\n",
    "\n",
    "import optuna\n",
    "from sklearn.model_selection import KFold"
   ]
  },
  {
   "cell_type": "code",
   "execution_count": 2,
   "metadata": {},
   "outputs": [],
   "source": [
    "df = pd.read_csv('./Tabnet_Raw_final.csv')"
   ]
  },
  {
   "cell_type": "code",
   "execution_count": 3,
   "metadata": {},
   "outputs": [],
   "source": [
    "df.replace((np.inf, -np.inf), np.nan, inplace=True)\n",
    "df.dropna(inplace=True)"
   ]
  },
  {
   "cell_type": "code",
   "execution_count": 9,
   "metadata": {},
   "outputs": [],
   "source": [
    "train = df[df['회계년도'] <= 2017]\n",
    "test = df[df['회계년도'] > 2017]\n",
    "\n",
    "X_train = train.drop(['부실', '회사명', '회계년도', '거래소코드'], axis=1)\n",
    "X_test = test.drop(['부실', '회사명', '회계년도', '거래소코드'], axis=1)\n",
    "\n",
    "y_train = train['부실']\n",
    "y_test = test['부실']\n",
    "\n",
    "feature_names = train.drop(['부실', '회사명', '회계년도', '거래소코드'], axis=1).columns.tolist()\n",
    "\n",
    "X = X_train.values\n",
    "y = y_train.values\n",
    "\n",
    "def Objective(trial):\n",
    "    mask_type = trial.suggest_categorical(\"mask_type\", [\"entmax\", \"sparsemax\"])\n",
    "    n_da = trial.suggest_int(\"n_da\", 56, 64, step=4)\n",
    "    n_steps = trial.suggest_int(\"n_steps\", 1, 3, step=1)\n",
    "    gamma = trial.suggest_float(\"gamma\", 1., 1.4, step=0.2)\n",
    "    n_shared = trial.suggest_int(\"n_shared\", 1, 3)\n",
    "    lambda_sparse = trial.suggest_float(\"lambda_sparse\", 1e-6, 1e-3, log=True)\n",
    "    tabnet_params = dict(n_d=n_da, n_a=n_da, n_steps=n_steps, gamma=gamma,\n",
    "                    lambda_sparse=lambda_sparse, optimizer_fn=torch.optim.Adam,\n",
    "                    optimizer_params=dict(lr=2e-2, weight_decay=1e-5),\n",
    "                    mask_type=mask_type, n_shared=n_shared,\n",
    "                    scheduler_params=dict(mode=\"min\",\n",
    "                                        patience=trial.suggest_int(\"patienceScheduler\",low=3,high=10), # changing sheduler patience to be lower than early stopping patience \n",
    "                                        min_lr=1e-5,\n",
    "                                        factor=0.5,),\n",
    "                    scheduler_fn=torch.optim.lr_scheduler.ReduceLROnPlateau,\n",
    "                    verbose=0,\n",
    "                    ) #early stopping\n",
    "    kf = KFold(n_splits=3, random_state=42, shuffle=True)\n",
    "    CV_score_array    =[]\n",
    "    for train_index, test_index in kf.split(X):\n",
    "        X_train, X_valid = X[train_index], X[test_index]\n",
    "        y_train, y_valid = y[train_index], y[test_index]\n",
    "        clf = TabNetClassifier(**tabnet_params)\n",
    "        clf.fit(X_train=X_train, y_train=y_train,\n",
    "                eval_set=[(X_valid, y_valid)],\n",
    "                patience=trial.suggest_int(\"patience\",low=15,high=30), max_epochs=trial.suggest_int('epochs', 1, 100),\n",
    "                eval_metric=['auc'])\n",
    "        CV_score_array.append(clf.best_cost)\n",
    "    avg = np.mean(CV_score_array)\n",
    "    return avg"
   ]
  },
  {
   "cell_type": "code",
   "execution_count": 10,
   "metadata": {},
   "outputs": [
    {
     "name": "stderr",
     "output_type": "stream",
     "text": [
      "\u001b[32m[I 2023-04-28 21:45:15,199]\u001b[0m A new study created in memory with name: TabNet optimization\u001b[0m\n"
     ]
    },
    {
     "name": "stdout",
     "output_type": "stream",
     "text": [
      "Stop training because you reached max_epochs = 72 with best_epoch = 71 and best_val_0_auc = 0.81428\n"
     ]
    },
    {
     "name": "stderr",
     "output_type": "stream",
     "text": [
      "c:\\Users\\seopa\\OneDrive\\Documents\\6기\\.venv\\lib\\site-packages\\pytorch_tabnet\\callbacks.py:172: UserWarning: Best weights from best epoch are automatically used!\n",
      "  warnings.warn(wrn_msg)\n"
     ]
    },
    {
     "name": "stdout",
     "output_type": "stream",
     "text": [
      "Stop training because you reached max_epochs = 72 with best_epoch = 67 and best_val_0_auc = 0.85482\n"
     ]
    },
    {
     "name": "stderr",
     "output_type": "stream",
     "text": [
      "c:\\Users\\seopa\\OneDrive\\Documents\\6기\\.venv\\lib\\site-packages\\pytorch_tabnet\\callbacks.py:172: UserWarning: Best weights from best epoch are automatically used!\n",
      "  warnings.warn(wrn_msg)\n"
     ]
    },
    {
     "name": "stdout",
     "output_type": "stream",
     "text": [
      "\n",
      "Early stopping occurred at epoch 65 with best_epoch = 47 and best_val_0_auc = 0.86366\n"
     ]
    },
    {
     "name": "stderr",
     "output_type": "stream",
     "text": [
      "c:\\Users\\seopa\\OneDrive\\Documents\\6기\\.venv\\lib\\site-packages\\pytorch_tabnet\\callbacks.py:172: UserWarning: Best weights from best epoch are automatically used!\n",
      "  warnings.warn(wrn_msg)\n",
      "\u001b[32m[I 2023-04-28 21:50:04,633]\u001b[0m Trial 0 finished with value: 0.8442519738092339 and parameters: {'mask_type': 'sparsemax', 'n_da': 64, 'n_steps': 3, 'gamma': 1.2, 'n_shared': 2, 'lambda_sparse': 1.653323480984695e-05, 'patienceScheduler': 3, 'patience': 18, 'epochs': 72}. Best is trial 0 with value: 0.8442519738092339.\u001b[0m\n"
     ]
    },
    {
     "name": "stdout",
     "output_type": "stream",
     "text": [
      "Stop training because you reached max_epochs = 43 with best_epoch = 30 and best_val_0_auc = 0.82774\n"
     ]
    },
    {
     "name": "stderr",
     "output_type": "stream",
     "text": [
      "c:\\Users\\seopa\\OneDrive\\Documents\\6기\\.venv\\lib\\site-packages\\pytorch_tabnet\\callbacks.py:172: UserWarning: Best weights from best epoch are automatically used!\n",
      "  warnings.warn(wrn_msg)\n"
     ]
    },
    {
     "name": "stdout",
     "output_type": "stream",
     "text": [
      "Stop training because you reached max_epochs = 43 with best_epoch = 38 and best_val_0_auc = 0.84249\n"
     ]
    },
    {
     "name": "stderr",
     "output_type": "stream",
     "text": [
      "c:\\Users\\seopa\\OneDrive\\Documents\\6기\\.venv\\lib\\site-packages\\pytorch_tabnet\\callbacks.py:172: UserWarning: Best weights from best epoch are automatically used!\n",
      "  warnings.warn(wrn_msg)\n"
     ]
    },
    {
     "name": "stdout",
     "output_type": "stream",
     "text": [
      "\n",
      "Early stopping occurred at epoch 35 with best_epoch = 17 and best_val_0_auc = 0.84529\n"
     ]
    },
    {
     "name": "stderr",
     "output_type": "stream",
     "text": [
      "c:\\Users\\seopa\\OneDrive\\Documents\\6기\\.venv\\lib\\site-packages\\pytorch_tabnet\\callbacks.py:172: UserWarning: Best weights from best epoch are automatically used!\n",
      "  warnings.warn(wrn_msg)\n",
      "\u001b[32m[I 2023-04-28 21:52:07,797]\u001b[0m Trial 1 finished with value: 0.8385051415723365 and parameters: {'mask_type': 'sparsemax', 'n_da': 64, 'n_steps': 2, 'gamma': 1.2, 'n_shared': 2, 'lambda_sparse': 0.0003646795370874319, 'patienceScheduler': 3, 'patience': 18, 'epochs': 43}. Best is trial 0 with value: 0.8442519738092339.\u001b[0m\n"
     ]
    },
    {
     "name": "stdout",
     "output_type": "stream",
     "text": [
      "Stop training because you reached max_epochs = 23 with best_epoch = 2 and best_val_0_auc = 0.73396\n"
     ]
    },
    {
     "name": "stderr",
     "output_type": "stream",
     "text": [
      "c:\\Users\\seopa\\OneDrive\\Documents\\6기\\.venv\\lib\\site-packages\\pytorch_tabnet\\callbacks.py:172: UserWarning: Best weights from best epoch are automatically used!\n",
      "  warnings.warn(wrn_msg)\n"
     ]
    },
    {
     "name": "stdout",
     "output_type": "stream",
     "text": [
      "Stop training because you reached max_epochs = 23 with best_epoch = 10 and best_val_0_auc = 0.78068\n"
     ]
    },
    {
     "name": "stderr",
     "output_type": "stream",
     "text": [
      "c:\\Users\\seopa\\OneDrive\\Documents\\6기\\.venv\\lib\\site-packages\\pytorch_tabnet\\callbacks.py:172: UserWarning: Best weights from best epoch are automatically used!\n",
      "  warnings.warn(wrn_msg)\n"
     ]
    },
    {
     "name": "stdout",
     "output_type": "stream",
     "text": [
      "Stop training because you reached max_epochs = 23 with best_epoch = 21 and best_val_0_auc = 0.84291\n"
     ]
    },
    {
     "name": "stderr",
     "output_type": "stream",
     "text": [
      "c:\\Users\\seopa\\OneDrive\\Documents\\6기\\.venv\\lib\\site-packages\\pytorch_tabnet\\callbacks.py:172: UserWarning: Best weights from best epoch are automatically used!\n",
      "  warnings.warn(wrn_msg)\n",
      "\u001b[32m[I 2023-04-28 21:53:21,778]\u001b[0m Trial 2 finished with value: 0.785851014051676 and parameters: {'mask_type': 'entmax', 'n_da': 64, 'n_steps': 3, 'gamma': 1.2, 'n_shared': 1, 'lambda_sparse': 3.0276883793141853e-05, 'patienceScheduler': 8, 'patience': 28, 'epochs': 23}. Best is trial 0 with value: 0.8442519738092339.\u001b[0m\n"
     ]
    },
    {
     "name": "stdout",
     "output_type": "stream",
     "text": [
      "Stop training because you reached max_epochs = 49 with best_epoch = 48 and best_val_0_auc = 0.81207\n"
     ]
    },
    {
     "name": "stderr",
     "output_type": "stream",
     "text": [
      "c:\\Users\\seopa\\OneDrive\\Documents\\6기\\.venv\\lib\\site-packages\\pytorch_tabnet\\callbacks.py:172: UserWarning: Best weights from best epoch are automatically used!\n",
      "  warnings.warn(wrn_msg)\n"
     ]
    },
    {
     "name": "stdout",
     "output_type": "stream",
     "text": [
      "Stop training because you reached max_epochs = 49 with best_epoch = 48 and best_val_0_auc = 0.76968\n"
     ]
    },
    {
     "name": "stderr",
     "output_type": "stream",
     "text": [
      "c:\\Users\\seopa\\OneDrive\\Documents\\6기\\.venv\\lib\\site-packages\\pytorch_tabnet\\callbacks.py:172: UserWarning: Best weights from best epoch are automatically used!\n",
      "  warnings.warn(wrn_msg)\n",
      "c:\\Users\\seopa\\OneDrive\\Documents\\6기\\.venv\\lib\\site-packages\\pytorch_tabnet\\callbacks.py:172: UserWarning: Best weights from best epoch are automatically used!\n",
      "  warnings.warn(wrn_msg)\n",
      "\u001b[32m[I 2023-04-28 21:54:18,475]\u001b[0m Trial 3 finished with value: 0.7937882850699701 and parameters: {'mask_type': 'sparsemax', 'n_da': 60, 'n_steps': 1, 'gamma': 1.4, 'n_shared': 1, 'lambda_sparse': 7.099637609814594e-06, 'patienceScheduler': 7, 'patience': 21, 'epochs': 49}. Best is trial 0 with value: 0.8442519738092339.\u001b[0m\n"
     ]
    },
    {
     "name": "stdout",
     "output_type": "stream",
     "text": [
      "\n",
      "Early stopping occurred at epoch 28 with best_epoch = 7 and best_val_0_auc = 0.79962\n",
      "Stop training because you reached max_epochs = 42 with best_epoch = 41 and best_val_0_auc = 0.81767\n"
     ]
    },
    {
     "name": "stderr",
     "output_type": "stream",
     "text": [
      "c:\\Users\\seopa\\OneDrive\\Documents\\6기\\.venv\\lib\\site-packages\\pytorch_tabnet\\callbacks.py:172: UserWarning: Best weights from best epoch are automatically used!\n",
      "  warnings.warn(wrn_msg)\n"
     ]
    },
    {
     "name": "stdout",
     "output_type": "stream",
     "text": [
      "Stop training because you reached max_epochs = 42 with best_epoch = 41 and best_val_0_auc = 0.7973\n"
     ]
    },
    {
     "name": "stderr",
     "output_type": "stream",
     "text": [
      "c:\\Users\\seopa\\OneDrive\\Documents\\6기\\.venv\\lib\\site-packages\\pytorch_tabnet\\callbacks.py:172: UserWarning: Best weights from best epoch are automatically used!\n",
      "  warnings.warn(wrn_msg)\n"
     ]
    },
    {
     "name": "stdout",
     "output_type": "stream",
     "text": [
      "\n",
      "Early stopping occurred at epoch 29 with best_epoch = 13 and best_val_0_auc = 0.84961\n"
     ]
    },
    {
     "name": "stderr",
     "output_type": "stream",
     "text": [
      "c:\\Users\\seopa\\OneDrive\\Documents\\6기\\.venv\\lib\\site-packages\\pytorch_tabnet\\callbacks.py:172: UserWarning: Best weights from best epoch are automatically used!\n",
      "  warnings.warn(wrn_msg)\n",
      "\u001b[32m[I 2023-04-28 21:56:24,363]\u001b[0m Trial 4 finished with value: 0.8215287477681498 and parameters: {'mask_type': 'sparsemax', 'n_da': 60, 'n_steps': 3, 'gamma': 1.2, 'n_shared': 2, 'lambda_sparse': 0.00022680327808937193, 'patienceScheduler': 7, 'patience': 16, 'epochs': 42}. Best is trial 0 with value: 0.8442519738092339.\u001b[0m\n"
     ]
    },
    {
     "name": "stdout",
     "output_type": "stream",
     "text": [
      "Stop training because you reached max_epochs = 72 with best_epoch = 61 and best_val_0_auc = 0.85054\n"
     ]
    },
    {
     "name": "stderr",
     "output_type": "stream",
     "text": [
      "c:\\Users\\seopa\\OneDrive\\Documents\\6기\\.venv\\lib\\site-packages\\pytorch_tabnet\\callbacks.py:172: UserWarning: Best weights from best epoch are automatically used!\n",
      "  warnings.warn(wrn_msg)\n"
     ]
    },
    {
     "name": "stdout",
     "output_type": "stream",
     "text": [
      "\n",
      "Early stopping occurred at epoch 19 with best_epoch = 1 and best_val_0_auc = 0.75786\n"
     ]
    },
    {
     "name": "stderr",
     "output_type": "stream",
     "text": [
      "c:\\Users\\seopa\\OneDrive\\Documents\\6기\\.venv\\lib\\site-packages\\pytorch_tabnet\\callbacks.py:172: UserWarning: Best weights from best epoch are automatically used!\n",
      "  warnings.warn(wrn_msg)\n"
     ]
    },
    {
     "name": "stdout",
     "output_type": "stream",
     "text": [
      "\n",
      "Early stopping occurred at epoch 58 with best_epoch = 40 and best_val_0_auc = 0.86545\n"
     ]
    },
    {
     "name": "stderr",
     "output_type": "stream",
     "text": [
      "c:\\Users\\seopa\\OneDrive\\Documents\\6기\\.venv\\lib\\site-packages\\pytorch_tabnet\\callbacks.py:172: UserWarning: Best weights from best epoch are automatically used!\n",
      "  warnings.warn(wrn_msg)\n",
      "\u001b[32m[I 2023-04-28 21:58:23,933]\u001b[0m Trial 5 finished with value: 0.8246162054930664 and parameters: {'mask_type': 'entmax', 'n_da': 64, 'n_steps': 1, 'gamma': 1.0, 'n_shared': 3, 'lambda_sparse': 2.455053258025464e-05, 'patienceScheduler': 6, 'patience': 18, 'epochs': 72}. Best is trial 0 with value: 0.8442519738092339.\u001b[0m\n"
     ]
    },
    {
     "name": "stdout",
     "output_type": "stream",
     "text": [
      "Stop training because you reached max_epochs = 74 with best_epoch = 70 and best_val_0_auc = 0.86507\n"
     ]
    },
    {
     "name": "stderr",
     "output_type": "stream",
     "text": [
      "c:\\Users\\seopa\\OneDrive\\Documents\\6기\\.venv\\lib\\site-packages\\pytorch_tabnet\\callbacks.py:172: UserWarning: Best weights from best epoch are automatically used!\n",
      "  warnings.warn(wrn_msg)\n"
     ]
    },
    {
     "name": "stdout",
     "output_type": "stream",
     "text": [
      "Stop training because you reached max_epochs = 74 with best_epoch = 67 and best_val_0_auc = 0.83109\n"
     ]
    },
    {
     "name": "stderr",
     "output_type": "stream",
     "text": [
      "c:\\Users\\seopa\\OneDrive\\Documents\\6기\\.venv\\lib\\site-packages\\pytorch_tabnet\\callbacks.py:172: UserWarning: Best weights from best epoch are automatically used!\n",
      "  warnings.warn(wrn_msg)\n"
     ]
    },
    {
     "name": "stdout",
     "output_type": "stream",
     "text": [
      "Stop training because you reached max_epochs = 74 with best_epoch = 63 and best_val_0_auc = 0.85858\n"
     ]
    },
    {
     "name": "stderr",
     "output_type": "stream",
     "text": [
      "c:\\Users\\seopa\\OneDrive\\Documents\\6기\\.venv\\lib\\site-packages\\pytorch_tabnet\\callbacks.py:172: UserWarning: Best weights from best epoch are automatically used!\n",
      "  warnings.warn(wrn_msg)\n",
      "\u001b[32m[I 2023-04-28 22:02:09,536]\u001b[0m Trial 6 finished with value: 0.8515794855668214 and parameters: {'mask_type': 'entmax', 'n_da': 60, 'n_steps': 2, 'gamma': 1.4, 'n_shared': 3, 'lambda_sparse': 6.810295174050659e-05, 'patienceScheduler': 5, 'patience': 23, 'epochs': 74}. Best is trial 6 with value: 0.8515794855668214.\u001b[0m\n"
     ]
    },
    {
     "name": "stdout",
     "output_type": "stream",
     "text": [
      "Stop training because you reached max_epochs = 37 with best_epoch = 34 and best_val_0_auc = 0.79269\n"
     ]
    },
    {
     "name": "stderr",
     "output_type": "stream",
     "text": [
      "c:\\Users\\seopa\\OneDrive\\Documents\\6기\\.venv\\lib\\site-packages\\pytorch_tabnet\\callbacks.py:172: UserWarning: Best weights from best epoch are automatically used!\n",
      "  warnings.warn(wrn_msg)\n"
     ]
    },
    {
     "name": "stdout",
     "output_type": "stream",
     "text": [
      "Stop training because you reached max_epochs = 37 with best_epoch = 32 and best_val_0_auc = 0.84089\n"
     ]
    },
    {
     "name": "stderr",
     "output_type": "stream",
     "text": [
      "c:\\Users\\seopa\\OneDrive\\Documents\\6기\\.venv\\lib\\site-packages\\pytorch_tabnet\\callbacks.py:172: UserWarning: Best weights from best epoch are automatically used!\n",
      "  warnings.warn(wrn_msg)\n"
     ]
    },
    {
     "name": "stdout",
     "output_type": "stream",
     "text": [
      "Stop training because you reached max_epochs = 37 with best_epoch = 36 and best_val_0_auc = 0.82082\n"
     ]
    },
    {
     "name": "stderr",
     "output_type": "stream",
     "text": [
      "c:\\Users\\seopa\\OneDrive\\Documents\\6기\\.venv\\lib\\site-packages\\pytorch_tabnet\\callbacks.py:172: UserWarning: Best weights from best epoch are automatically used!\n",
      "  warnings.warn(wrn_msg)\n",
      "\u001b[32m[I 2023-04-28 22:03:39,313]\u001b[0m Trial 7 finished with value: 0.8181331813918441 and parameters: {'mask_type': 'sparsemax', 'n_da': 64, 'n_steps': 2, 'gamma': 1.4, 'n_shared': 1, 'lambda_sparse': 1.2661942471788473e-05, 'patienceScheduler': 6, 'patience': 27, 'epochs': 37}. Best is trial 6 with value: 0.8515794855668214.\u001b[0m\n"
     ]
    },
    {
     "name": "stdout",
     "output_type": "stream",
     "text": [
      "Stop training because you reached max_epochs = 27 with best_epoch = 26 and best_val_0_auc = 0.85165\n"
     ]
    },
    {
     "name": "stderr",
     "output_type": "stream",
     "text": [
      "c:\\Users\\seopa\\OneDrive\\Documents\\6기\\.venv\\lib\\site-packages\\pytorch_tabnet\\callbacks.py:172: UserWarning: Best weights from best epoch are automatically used!\n",
      "  warnings.warn(wrn_msg)\n"
     ]
    },
    {
     "name": "stdout",
     "output_type": "stream",
     "text": [
      "Stop training because you reached max_epochs = 27 with best_epoch = 7 and best_val_0_auc = 0.73776\n"
     ]
    },
    {
     "name": "stderr",
     "output_type": "stream",
     "text": [
      "c:\\Users\\seopa\\OneDrive\\Documents\\6기\\.venv\\lib\\site-packages\\pytorch_tabnet\\callbacks.py:172: UserWarning: Best weights from best epoch are automatically used!\n",
      "  warnings.warn(wrn_msg)\n"
     ]
    },
    {
     "name": "stdout",
     "output_type": "stream",
     "text": [
      "Stop training because you reached max_epochs = 27 with best_epoch = 5 and best_val_0_auc = 0.77769\n"
     ]
    },
    {
     "name": "stderr",
     "output_type": "stream",
     "text": [
      "c:\\Users\\seopa\\OneDrive\\Documents\\6기\\.venv\\lib\\site-packages\\pytorch_tabnet\\callbacks.py:172: UserWarning: Best weights from best epoch are automatically used!\n",
      "  warnings.warn(wrn_msg)\n",
      "\u001b[32m[I 2023-04-28 22:04:29,387]\u001b[0m Trial 8 finished with value: 0.789034481730908 and parameters: {'mask_type': 'entmax', 'n_da': 60, 'n_steps': 1, 'gamma': 1.0, 'n_shared': 3, 'lambda_sparse': 0.0003985644058373171, 'patienceScheduler': 10, 'patience': 28, 'epochs': 27}. Best is trial 6 with value: 0.8515794855668214.\u001b[0m\n"
     ]
    },
    {
     "name": "stdout",
     "output_type": "stream",
     "text": [
      "Stop training because you reached max_epochs = 5 with best_epoch = 2 and best_val_0_auc = 0.74402\n"
     ]
    },
    {
     "name": "stderr",
     "output_type": "stream",
     "text": [
      "c:\\Users\\seopa\\OneDrive\\Documents\\6기\\.venv\\lib\\site-packages\\pytorch_tabnet\\callbacks.py:172: UserWarning: Best weights from best epoch are automatically used!\n",
      "  warnings.warn(wrn_msg)\n"
     ]
    },
    {
     "name": "stdout",
     "output_type": "stream",
     "text": [
      "Stop training because you reached max_epochs = 5 with best_epoch = 3 and best_val_0_auc = 0.75328\n"
     ]
    },
    {
     "name": "stderr",
     "output_type": "stream",
     "text": [
      "c:\\Users\\seopa\\OneDrive\\Documents\\6기\\.venv\\lib\\site-packages\\pytorch_tabnet\\callbacks.py:172: UserWarning: Best weights from best epoch are automatically used!\n",
      "  warnings.warn(wrn_msg)\n"
     ]
    },
    {
     "name": "stdout",
     "output_type": "stream",
     "text": [
      "Stop training because you reached max_epochs = 5 with best_epoch = 4 and best_val_0_auc = 0.77317\n"
     ]
    },
    {
     "name": "stderr",
     "output_type": "stream",
     "text": [
      "c:\\Users\\seopa\\OneDrive\\Documents\\6기\\.venv\\lib\\site-packages\\pytorch_tabnet\\callbacks.py:172: UserWarning: Best weights from best epoch are automatically used!\n",
      "  warnings.warn(wrn_msg)\n",
      "\u001b[32m[I 2023-04-28 22:04:48,622]\u001b[0m Trial 9 finished with value: 0.7568244518899094 and parameters: {'mask_type': 'sparsemax', 'n_da': 64, 'n_steps': 2, 'gamma': 1.0, 'n_shared': 3, 'lambda_sparse': 2.5854930796372623e-06, 'patienceScheduler': 8, 'patience': 27, 'epochs': 5}. Best is trial 6 with value: 0.8515794855668214.\u001b[0m\n"
     ]
    },
    {
     "name": "stdout",
     "output_type": "stream",
     "text": [
      "Stop training because you reached max_epochs = 100 with best_epoch = 86 and best_val_0_auc = 0.89197\n"
     ]
    },
    {
     "name": "stderr",
     "output_type": "stream",
     "text": [
      "c:\\Users\\seopa\\OneDrive\\Documents\\6기\\.venv\\lib\\site-packages\\pytorch_tabnet\\callbacks.py:172: UserWarning: Best weights from best epoch are automatically used!\n",
      "  warnings.warn(wrn_msg)\n"
     ]
    },
    {
     "name": "stdout",
     "output_type": "stream",
     "text": [
      "Stop training because you reached max_epochs = 100 with best_epoch = 99 and best_val_0_auc = 0.83408\n"
     ]
    },
    {
     "name": "stderr",
     "output_type": "stream",
     "text": [
      "c:\\Users\\seopa\\OneDrive\\Documents\\6기\\.venv\\lib\\site-packages\\pytorch_tabnet\\callbacks.py:172: UserWarning: Best weights from best epoch are automatically used!\n",
      "  warnings.warn(wrn_msg)\n"
     ]
    },
    {
     "name": "stdout",
     "output_type": "stream",
     "text": [
      "\n",
      "Early stopping occurred at epoch 56 with best_epoch = 33 and best_val_0_auc = 0.85313\n"
     ]
    },
    {
     "name": "stderr",
     "output_type": "stream",
     "text": [
      "c:\\Users\\seopa\\OneDrive\\Documents\\6기\\.venv\\lib\\site-packages\\pytorch_tabnet\\callbacks.py:172: UserWarning: Best weights from best epoch are automatically used!\n",
      "  warnings.warn(wrn_msg)\n",
      "\u001b[32m[I 2023-04-28 22:08:42,988]\u001b[0m Trial 10 finished with value: 0.8597263305499867 and parameters: {'mask_type': 'entmax', 'n_da': 56, 'n_steps': 2, 'gamma': 1.4, 'n_shared': 3, 'lambda_sparse': 0.0001021180196306919, 'patienceScheduler': 4, 'patience': 23, 'epochs': 100}. Best is trial 10 with value: 0.8597263305499867.\u001b[0m\n"
     ]
    },
    {
     "name": "stdout",
     "output_type": "stream",
     "text": [
      "Stop training because you reached max_epochs = 97 with best_epoch = 84 and best_val_0_auc = 0.88647\n"
     ]
    },
    {
     "name": "stderr",
     "output_type": "stream",
     "text": [
      "c:\\Users\\seopa\\OneDrive\\Documents\\6기\\.venv\\lib\\site-packages\\pytorch_tabnet\\callbacks.py:172: UserWarning: Best weights from best epoch are automatically used!\n",
      "  warnings.warn(wrn_msg)\n"
     ]
    },
    {
     "name": "stdout",
     "output_type": "stream",
     "text": [
      "\n",
      "Early stopping occurred at epoch 25 with best_epoch = 2 and best_val_0_auc = 0.76484\n"
     ]
    },
    {
     "name": "stderr",
     "output_type": "stream",
     "text": [
      "c:\\Users\\seopa\\OneDrive\\Documents\\6기\\.venv\\lib\\site-packages\\pytorch_tabnet\\callbacks.py:172: UserWarning: Best weights from best epoch are automatically used!\n",
      "  warnings.warn(wrn_msg)\n"
     ]
    },
    {
     "name": "stdout",
     "output_type": "stream",
     "text": [
      "\n",
      "Early stopping occurred at epoch 30 with best_epoch = 7 and best_val_0_auc = 0.82558\n"
     ]
    },
    {
     "name": "stderr",
     "output_type": "stream",
     "text": [
      "c:\\Users\\seopa\\OneDrive\\Documents\\6기\\.venv\\lib\\site-packages\\pytorch_tabnet\\callbacks.py:172: UserWarning: Best weights from best epoch are automatically used!\n",
      "  warnings.warn(wrn_msg)\n",
      "\u001b[32m[I 2023-04-28 22:11:05,326]\u001b[0m Trial 11 finished with value: 0.8256312410202135 and parameters: {'mask_type': 'entmax', 'n_da': 56, 'n_steps': 2, 'gamma': 1.4, 'n_shared': 3, 'lambda_sparse': 0.00010901264761156722, 'patienceScheduler': 4, 'patience': 23, 'epochs': 97}. Best is trial 10 with value: 0.8597263305499867.\u001b[0m\n"
     ]
    },
    {
     "name": "stdout",
     "output_type": "stream",
     "text": [
      "\n",
      "Early stopping occurred at epoch 94 with best_epoch = 71 and best_val_0_auc = 0.89627\n"
     ]
    },
    {
     "name": "stderr",
     "output_type": "stream",
     "text": [
      "c:\\Users\\seopa\\OneDrive\\Documents\\6기\\.venv\\lib\\site-packages\\pytorch_tabnet\\callbacks.py:172: UserWarning: Best weights from best epoch are automatically used!\n",
      "  warnings.warn(wrn_msg)\n"
     ]
    },
    {
     "name": "stdout",
     "output_type": "stream",
     "text": [
      "\n",
      "Early stopping occurred at epoch 26 with best_epoch = 3 and best_val_0_auc = 0.75136\n"
     ]
    },
    {
     "name": "stderr",
     "output_type": "stream",
     "text": [
      "c:\\Users\\seopa\\OneDrive\\Documents\\6기\\.venv\\lib\\site-packages\\pytorch_tabnet\\callbacks.py:172: UserWarning: Best weights from best epoch are automatically used!\n",
      "  warnings.warn(wrn_msg)\n"
     ]
    },
    {
     "name": "stdout",
     "output_type": "stream",
     "text": [
      "Stop training because you reached max_epochs = 98 with best_epoch = 94 and best_val_0_auc = 0.85763\n"
     ]
    },
    {
     "name": "stderr",
     "output_type": "stream",
     "text": [
      "c:\\Users\\seopa\\OneDrive\\Documents\\6기\\.venv\\lib\\site-packages\\pytorch_tabnet\\callbacks.py:172: UserWarning: Best weights from best epoch are automatically used!\n",
      "  warnings.warn(wrn_msg)\n",
      "\u001b[32m[I 2023-04-28 22:14:24,814]\u001b[0m Trial 12 finished with value: 0.8350877305712818 and parameters: {'mask_type': 'entmax', 'n_da': 56, 'n_steps': 2, 'gamma': 1.4, 'n_shared': 3, 'lambda_sparse': 8.59802289339536e-05, 'patienceScheduler': 5, 'patience': 23, 'epochs': 98}. Best is trial 10 with value: 0.8597263305499867.\u001b[0m\n"
     ]
    },
    {
     "name": "stdout",
     "output_type": "stream",
     "text": [
      "Stop training because you reached max_epochs = 77 with best_epoch = 57 and best_val_0_auc = 0.89854\n"
     ]
    },
    {
     "name": "stderr",
     "output_type": "stream",
     "text": [
      "c:\\Users\\seopa\\OneDrive\\Documents\\6기\\.venv\\lib\\site-packages\\pytorch_tabnet\\callbacks.py:172: UserWarning: Best weights from best epoch are automatically used!\n",
      "  warnings.warn(wrn_msg)\n"
     ]
    },
    {
     "name": "stdout",
     "output_type": "stream",
     "text": [
      "\n",
      "Early stopping occurred at epoch 27 with best_epoch = 2 and best_val_0_auc = 0.71522\n"
     ]
    },
    {
     "name": "stderr",
     "output_type": "stream",
     "text": [
      "c:\\Users\\seopa\\OneDrive\\Documents\\6기\\.venv\\lib\\site-packages\\pytorch_tabnet\\callbacks.py:172: UserWarning: Best weights from best epoch are automatically used!\n",
      "  warnings.warn(wrn_msg)\n"
     ]
    },
    {
     "name": "stdout",
     "output_type": "stream",
     "text": [
      "Stop training because you reached max_epochs = 77 with best_epoch = 57 and best_val_0_auc = 0.85509\n"
     ]
    },
    {
     "name": "stderr",
     "output_type": "stream",
     "text": [
      "c:\\Users\\seopa\\OneDrive\\Documents\\6기\\.venv\\lib\\site-packages\\pytorch_tabnet\\callbacks.py:172: UserWarning: Best weights from best epoch are automatically used!\n",
      "  warnings.warn(wrn_msg)\n",
      "\u001b[32m[I 2023-04-28 22:17:06,687]\u001b[0m Trial 13 finished with value: 0.8229502008903568 and parameters: {'mask_type': 'entmax', 'n_da': 56, 'n_steps': 2, 'gamma': 1.4, 'n_shared': 3, 'lambda_sparse': 7.790162756543873e-05, 'patienceScheduler': 5, 'patience': 25, 'epochs': 77}. Best is trial 10 with value: 0.8597263305499867.\u001b[0m\n"
     ]
    },
    {
     "name": "stdout",
     "output_type": "stream",
     "text": [
      "\n",
      "Early stopping occurred at epoch 77 with best_epoch = 56 and best_val_0_auc = 0.88123\n"
     ]
    },
    {
     "name": "stderr",
     "output_type": "stream",
     "text": [
      "c:\\Users\\seopa\\OneDrive\\Documents\\6기\\.venv\\lib\\site-packages\\pytorch_tabnet\\callbacks.py:172: UserWarning: Best weights from best epoch are automatically used!\n",
      "  warnings.warn(wrn_msg)\n"
     ]
    },
    {
     "name": "stdout",
     "output_type": "stream",
     "text": [
      "Stop training because you reached max_epochs = 86 with best_epoch = 85 and best_val_0_auc = 0.82657\n"
     ]
    },
    {
     "name": "stderr",
     "output_type": "stream",
     "text": [
      "c:\\Users\\seopa\\OneDrive\\Documents\\6기\\.venv\\lib\\site-packages\\pytorch_tabnet\\callbacks.py:172: UserWarning: Best weights from best epoch are automatically used!\n",
      "  warnings.warn(wrn_msg)\n"
     ]
    },
    {
     "name": "stdout",
     "output_type": "stream",
     "text": [
      "Stop training because you reached max_epochs = 86 with best_epoch = 71 and best_val_0_auc = 0.83771\n"
     ]
    },
    {
     "name": "stderr",
     "output_type": "stream",
     "text": [
      "c:\\Users\\seopa\\OneDrive\\Documents\\6기\\.venv\\lib\\site-packages\\pytorch_tabnet\\callbacks.py:172: UserWarning: Best weights from best epoch are automatically used!\n",
      "  warnings.warn(wrn_msg)\n",
      "\u001b[32m[I 2023-04-28 22:19:13,168]\u001b[0m Trial 14 finished with value: 0.8485039268121906 and parameters: {'mask_type': 'entmax', 'n_da': 56, 'n_steps': 1, 'gamma': 1.4, 'n_shared': 2, 'lambda_sparse': 6.0984648548947156e-05, 'patienceScheduler': 4, 'patience': 21, 'epochs': 86}. Best is trial 10 with value: 0.8597263305499867.\u001b[0m\n"
     ]
    },
    {
     "name": "stdout",
     "output_type": "stream",
     "text": [
      "Stop training because you reached max_epochs = 61 with best_epoch = 57 and best_val_0_auc = 0.87508\n"
     ]
    },
    {
     "name": "stderr",
     "output_type": "stream",
     "text": [
      "c:\\Users\\seopa\\OneDrive\\Documents\\6기\\.venv\\lib\\site-packages\\pytorch_tabnet\\callbacks.py:172: UserWarning: Best weights from best epoch are automatically used!\n",
      "  warnings.warn(wrn_msg)\n"
     ]
    },
    {
     "name": "stdout",
     "output_type": "stream",
     "text": [
      "Stop training because you reached max_epochs = 61 with best_epoch = 59 and best_val_0_auc = 0.83657\n"
     ]
    },
    {
     "name": "stderr",
     "output_type": "stream",
     "text": [
      "c:\\Users\\seopa\\OneDrive\\Documents\\6기\\.venv\\lib\\site-packages\\pytorch_tabnet\\callbacks.py:172: UserWarning: Best weights from best epoch are automatically used!\n",
      "  warnings.warn(wrn_msg)\n"
     ]
    },
    {
     "name": "stdout",
     "output_type": "stream",
     "text": [
      "Stop training because you reached max_epochs = 61 with best_epoch = 40 and best_val_0_auc = 0.84977\n"
     ]
    },
    {
     "name": "stderr",
     "output_type": "stream",
     "text": [
      "c:\\Users\\seopa\\OneDrive\\Documents\\6기\\.venv\\lib\\site-packages\\pytorch_tabnet\\callbacks.py:172: UserWarning: Best weights from best epoch are automatically used!\n",
      "  warnings.warn(wrn_msg)\n",
      "\u001b[32m[I 2023-04-28 22:23:17,247]\u001b[0m Trial 15 finished with value: 0.8538077674620679 and parameters: {'mask_type': 'entmax', 'n_da': 60, 'n_steps': 3, 'gamma': 1.4, 'n_shared': 3, 'lambda_sparse': 0.0008717257299357214, 'patienceScheduler': 5, 'patience': 30, 'epochs': 61}. Best is trial 10 with value: 0.8597263305499867.\u001b[0m\n"
     ]
    },
    {
     "name": "stdout",
     "output_type": "stream",
     "text": [
      "\n",
      "Early stopping occurred at epoch 53 with best_epoch = 27 and best_val_0_auc = 0.87528\n"
     ]
    },
    {
     "name": "stderr",
     "output_type": "stream",
     "text": [
      "c:\\Users\\seopa\\OneDrive\\Documents\\6기\\.venv\\lib\\site-packages\\pytorch_tabnet\\callbacks.py:172: UserWarning: Best weights from best epoch are automatically used!\n",
      "  warnings.warn(wrn_msg)\n"
     ]
    },
    {
     "name": "stdout",
     "output_type": "stream",
     "text": [
      "\n",
      "Early stopping occurred at epoch 43 with best_epoch = 17 and best_val_0_auc = 0.79157\n"
     ]
    },
    {
     "name": "stderr",
     "output_type": "stream",
     "text": [
      "c:\\Users\\seopa\\OneDrive\\Documents\\6기\\.venv\\lib\\site-packages\\pytorch_tabnet\\callbacks.py:172: UserWarning: Best weights from best epoch are automatically used!\n",
      "  warnings.warn(wrn_msg)\n"
     ]
    },
    {
     "name": "stdout",
     "output_type": "stream",
     "text": [
      "Stop training because you reached max_epochs = 58 with best_epoch = 33 and best_val_0_auc = 0.85427\n"
     ]
    },
    {
     "name": "stderr",
     "output_type": "stream",
     "text": [
      "c:\\Users\\seopa\\OneDrive\\Documents\\6기\\.venv\\lib\\site-packages\\pytorch_tabnet\\callbacks.py:172: UserWarning: Best weights from best epoch are automatically used!\n",
      "  warnings.warn(wrn_msg)\n",
      "\u001b[32m[I 2023-04-28 22:25:50,461]\u001b[0m Trial 16 finished with value: 0.8403739340050769 and parameters: {'mask_type': 'entmax', 'n_da': 56, 'n_steps': 3, 'gamma': 1.2, 'n_shared': 2, 'lambda_sparse': 0.0008700460338616535, 'patienceScheduler': 4, 'patience': 26, 'epochs': 58}. Best is trial 10 with value: 0.8597263305499867.\u001b[0m\n"
     ]
    },
    {
     "name": "stdout",
     "output_type": "stream",
     "text": [
      "Stop training because you reached max_epochs = 58 with best_epoch = 55 and best_val_0_auc = 0.86309\n"
     ]
    },
    {
     "name": "stderr",
     "output_type": "stream",
     "text": [
      "c:\\Users\\seopa\\OneDrive\\Documents\\6기\\.venv\\lib\\site-packages\\pytorch_tabnet\\callbacks.py:172: UserWarning: Best weights from best epoch are automatically used!\n",
      "  warnings.warn(wrn_msg)\n"
     ]
    },
    {
     "name": "stdout",
     "output_type": "stream",
     "text": [
      "Stop training because you reached max_epochs = 58 with best_epoch = 57 and best_val_0_auc = 0.80657\n"
     ]
    },
    {
     "name": "stderr",
     "output_type": "stream",
     "text": [
      "c:\\Users\\seopa\\OneDrive\\Documents\\6기\\.venv\\lib\\site-packages\\pytorch_tabnet\\callbacks.py:172: UserWarning: Best weights from best epoch are automatically used!\n",
      "  warnings.warn(wrn_msg)\n"
     ]
    },
    {
     "name": "stdout",
     "output_type": "stream",
     "text": [
      "Stop training because you reached max_epochs = 58 with best_epoch = 32 and best_val_0_auc = 0.85776\n"
     ]
    },
    {
     "name": "stderr",
     "output_type": "stream",
     "text": [
      "c:\\Users\\seopa\\OneDrive\\Documents\\6기\\.venv\\lib\\site-packages\\pytorch_tabnet\\callbacks.py:172: UserWarning: Best weights from best epoch are automatically used!\n",
      "  warnings.warn(wrn_msg)\n",
      "\u001b[32m[I 2023-04-28 22:29:38,118]\u001b[0m Trial 17 finished with value: 0.8424732532092859 and parameters: {'mask_type': 'entmax', 'n_da': 60, 'n_steps': 3, 'gamma': 1.4, 'n_shared': 3, 'lambda_sparse': 0.000699329444227171, 'patienceScheduler': 3, 'patience': 30, 'epochs': 58}. Best is trial 10 with value: 0.8597263305499867.\u001b[0m\n"
     ]
    },
    {
     "name": "stdout",
     "output_type": "stream",
     "text": [
      "\n",
      "Early stopping occurred at epoch 36 with best_epoch = 21 and best_val_0_auc = 0.86316\n"
     ]
    },
    {
     "name": "stderr",
     "output_type": "stream",
     "text": [
      "c:\\Users\\seopa\\OneDrive\\Documents\\6기\\.venv\\lib\\site-packages\\pytorch_tabnet\\callbacks.py:172: UserWarning: Best weights from best epoch are automatically used!\n",
      "  warnings.warn(wrn_msg)\n"
     ]
    },
    {
     "name": "stdout",
     "output_type": "stream",
     "text": [
      "\n",
      "Early stopping occurred at epoch 40 with best_epoch = 25 and best_val_0_auc = 0.85477\n"
     ]
    },
    {
     "name": "stderr",
     "output_type": "stream",
     "text": [
      "c:\\Users\\seopa\\OneDrive\\Documents\\6기\\.venv\\lib\\site-packages\\pytorch_tabnet\\callbacks.py:172: UserWarning: Best weights from best epoch are automatically used!\n",
      "  warnings.warn(wrn_msg)\n"
     ]
    },
    {
     "name": "stdout",
     "output_type": "stream",
     "text": [
      "\n",
      "Early stopping occurred at epoch 26 with best_epoch = 11 and best_val_0_auc = 0.85043\n"
     ]
    },
    {
     "name": "stderr",
     "output_type": "stream",
     "text": [
      "c:\\Users\\seopa\\OneDrive\\Documents\\6기\\.venv\\lib\\site-packages\\pytorch_tabnet\\callbacks.py:172: UserWarning: Best weights from best epoch are automatically used!\n",
      "  warnings.warn(wrn_msg)\n",
      "\u001b[32m[I 2023-04-28 22:31:32,682]\u001b[0m Trial 18 finished with value: 0.8561214738048589 and parameters: {'mask_type': 'entmax', 'n_da': 60, 'n_steps': 3, 'gamma': 1.4, 'n_shared': 2, 'lambda_sparse': 0.0001992484862238816, 'patienceScheduler': 10, 'patience': 15, 'epochs': 86}. Best is trial 10 with value: 0.8597263305499867.\u001b[0m\n"
     ]
    },
    {
     "name": "stdout",
     "output_type": "stream",
     "text": [
      "Stop training because you reached max_epochs = 88 with best_epoch = 86 and best_val_0_auc = 0.86788\n"
     ]
    },
    {
     "name": "stderr",
     "output_type": "stream",
     "text": [
      "c:\\Users\\seopa\\OneDrive\\Documents\\6기\\.venv\\lib\\site-packages\\pytorch_tabnet\\callbacks.py:172: UserWarning: Best weights from best epoch are automatically used!\n",
      "  warnings.warn(wrn_msg)\n"
     ]
    },
    {
     "name": "stdout",
     "output_type": "stream",
     "text": [
      "\n",
      "Early stopping occurred at epoch 39 with best_epoch = 24 and best_val_0_auc = 0.75725\n"
     ]
    },
    {
     "name": "stderr",
     "output_type": "stream",
     "text": [
      "c:\\Users\\seopa\\OneDrive\\Documents\\6기\\.venv\\lib\\site-packages\\pytorch_tabnet\\callbacks.py:172: UserWarning: Best weights from best epoch are automatically used!\n",
      "  warnings.warn(wrn_msg)\n"
     ]
    },
    {
     "name": "stdout",
     "output_type": "stream",
     "text": [
      "\n",
      "Early stopping occurred at epoch 19 with best_epoch = 4 and best_val_0_auc = 0.82934\n"
     ]
    },
    {
     "name": "stderr",
     "output_type": "stream",
     "text": [
      "c:\\Users\\seopa\\OneDrive\\Documents\\6기\\.venv\\lib\\site-packages\\pytorch_tabnet\\callbacks.py:172: UserWarning: Best weights from best epoch are automatically used!\n",
      "  warnings.warn(wrn_msg)\n",
      "\u001b[32m[I 2023-04-28 22:33:22,683]\u001b[0m Trial 19 finished with value: 0.8181553505376636 and parameters: {'mask_type': 'entmax', 'n_da': 56, 'n_steps': 2, 'gamma': 1.2, 'n_shared': 2, 'lambda_sparse': 0.00019042501568447304, 'patienceScheduler': 10, 'patience': 15, 'epochs': 88}. Best is trial 10 with value: 0.8597263305499867.\u001b[0m\n"
     ]
    }
   ],
   "source": [
    "study = optuna.create_study(direction=\"maximize\", study_name='TabNet optimization')\n",
    "study.optimize(Objective, n_trials=20) # timeout=6*60"
   ]
  },
  {
   "cell_type": "code",
   "execution_count": 11,
   "metadata": {},
   "outputs": [],
   "source": [
    "TabNet_params = study.best_params"
   ]
  },
  {
   "cell_type": "code",
   "execution_count": 12,
   "metadata": {},
   "outputs": [
    {
     "name": "stdout",
     "output_type": "stream",
     "text": [
      "{'mask_type': 'entmax', 'n_da': 56, 'n_steps': 2, 'gamma': 1.4, 'n_shared': 3, 'lambda_sparse': 0.0001021180196306919, 'patienceScheduler': 4, 'patience': 23, 'epochs': 100}\n"
     ]
    }
   ],
   "source": [
    "print(TabNet_params)"
   ]
  },
  {
   "cell_type": "code",
   "execution_count": 13,
   "metadata": {},
   "outputs": [],
   "source": [
    "final_params = dict(n_d=TabNet_params['n_da'], n_a=TabNet_params['n_da'], n_steps=TabNet_params['n_steps'], gamma=TabNet_params['gamma'],\n",
    "                    lambda_sparse=TabNet_params['lambda_sparse'], optimizer_fn=torch.optim.Adam,\n",
    "                    optimizer_params=dict(lr=2e-2, weight_decay=1e-5),\n",
    "                    mask_type=TabNet_params['mask_type'], n_shared=TabNet_params['n_shared'],\n",
    "                    scheduler_params=dict(mode=\"min\",\n",
    "                                        patience=TabNet_params['patienceScheduler'],\n",
    "                                        min_lr=1e-5,\n",
    "                                        factor=0.5,),\n",
    "                    scheduler_fn=torch.optim.lr_scheduler.ReduceLROnPlateau,\n",
    "                    verbose=0,\n",
    "                    )\n",
    "epochs = TabNet_params['epochs']"
   ]
  },
  {
   "cell_type": "code",
   "execution_count": 14,
   "metadata": {},
   "outputs": [
    {
     "name": "stderr",
     "output_type": "stream",
     "text": [
      "c:\\Users\\seopa\\OneDrive\\Documents\\6기\\.venv\\lib\\site-packages\\pytorch_tabnet\\abstract_model.py:651: UserWarning: No early stopping will be performed, last training weights will be used.\n",
      "  warnings.warn(wrn_msg)\n"
     ]
    }
   ],
   "source": [
    "clf = TabNetClassifier(**final_params)\n",
    "clf.fit(X_train=X, y_train=y,\n",
    "          patience=TabNet_params['patience'], max_epochs=epochs,\n",
    "          eval_metric=['auc'])"
   ]
  },
  {
   "cell_type": "code",
   "execution_count": 15,
   "metadata": {},
   "outputs": [],
   "source": [
    "# train\n",
    "X_train_re = X_train.values\n",
    "dt1_pred_train = clf.predict(X_train_re)\n",
    "\n",
    "# test\n",
    "X_test_re = X_test.values\n",
    "dt1_pred = clf.predict(X_test_re)"
   ]
  },
  {
   "cell_type": "code",
   "execution_count": 19,
   "metadata": {},
   "outputs": [
    {
     "name": "stdout",
     "output_type": "stream",
     "text": [
      "(0.97, 0.84, 0.38, 0.69)\n"
     ]
    },
    {
     "data": {
      "text/html": [
       "<div>\n",
       "<style scoped>\n",
       "    .dataframe tbody tr th:only-of-type {\n",
       "        vertical-align: middle;\n",
       "    }\n",
       "\n",
       "    .dataframe tbody tr th {\n",
       "        vertical-align: top;\n",
       "    }\n",
       "\n",
       "    .dataframe thead th {\n",
       "        text-align: right;\n",
       "    }\n",
       "</style>\n",
       "<table border=\"1\" class=\"dataframe\">\n",
       "  <thead>\n",
       "    <tr style=\"text-align: right;\">\n",
       "      <th></th>\n",
       "      <th>model</th>\n",
       "      <th>acc_train</th>\n",
       "      <th>auc_train</th>\n",
       "      <th>acc_test</th>\n",
       "      <th>precision</th>\n",
       "      <th>recall</th>\n",
       "      <th>f1_score</th>\n",
       "      <th>AUC_test</th>\n",
       "    </tr>\n",
       "  </thead>\n",
       "  <tbody>\n",
       "    <tr>\n",
       "      <th>0</th>\n",
       "      <td>TabNetClassifier(n_d=56, n_a=56, n_steps=2, ga...</td>\n",
       "      <td>0.97</td>\n",
       "      <td>0.84</td>\n",
       "      <td>0.96</td>\n",
       "      <td>0.33</td>\n",
       "      <td>0.14</td>\n",
       "      <td>0.2</td>\n",
       "      <td>0.56</td>\n",
       "    </tr>\n",
       "  </tbody>\n",
       "</table>\n",
       "</div>"
      ],
      "text/plain": [
       "                                               model  acc_train  auc_train  \\\n",
       "0  TabNetClassifier(n_d=56, n_a=56, n_steps=2, ga...       0.97       0.84   \n",
       "\n",
       "   acc_test  precision  recall  f1_score  AUC_test  \n",
       "0      0.96       0.33    0.14       0.2      0.56  "
      ]
     },
     "execution_count": 19,
     "metadata": {},
     "output_type": "execute_result"
    }
   ],
   "source": [
    "from sklearn.metrics import confusion_matrix, accuracy_score, precision_score, recall_score, f1_score\n",
    "\n",
    "rdict={'model':[], \"acc_train\":[], \"auc_train\":[], 'acc_test':[],'precision':[],'recall':[],'f1_score':[], 'AUC_test':[]}\n",
    "\n",
    "results_train  = (round(accuracy_score(y_train,dt1_pred_train),2),round(precision_score(y_train,dt1_pred_train),2), round(recall_score(y_train,dt1_pred_train),2), round(roc_auc_score(y_train,dt1_pred_train),2))\n",
    "\n",
    "results = (round(accuracy_score(y_test,dt1_pred),2),\n",
    "                round(precision_score(y_test,dt1_pred),2),\n",
    "                round(recall_score(y_test,dt1_pred),2),\n",
    "                round(f1_score(y_test,dt1_pred),2),\n",
    "                round(roc_auc_score(y_test,dt1_pred),2))\n",
    "\n",
    "rdict['model'].append(clf)\n",
    "rdict['acc_train'].append(results_train[0])\n",
    "rdict['auc_train'].append(results_train[1])\n",
    "rdict['acc_test'].append(results[0])\n",
    "rdict['precision'].append(results[1])\n",
    "rdict['recall'].append(results[2])\n",
    "rdict['f1_score'].append(results[3])\n",
    "rdict['AUC_test'].append(results[4])\n",
    "\n",
    "print(results_train)\n",
    "rdf_tabnet = pd.DataFrame(data=rdict)\n",
    "rdf_tabnet"
   ]
  }
 ],
 "metadata": {
  "kernelspec": {
   "display_name": ".venv",
   "language": "python",
   "name": "python3"
  },
  "language_info": {
   "codemirror_mode": {
    "name": "ipython",
    "version": 3
   },
   "file_extension": ".py",
   "mimetype": "text/x-python",
   "name": "python",
   "nbconvert_exporter": "python",
   "pygments_lexer": "ipython3",
   "version": "3.6.3"
  },
  "orig_nbformat": 4
 },
 "nbformat": 4,
 "nbformat_minor": 2
}
